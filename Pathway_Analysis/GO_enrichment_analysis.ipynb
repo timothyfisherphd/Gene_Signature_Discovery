{
 "cells": [
  {
   "cell_type": "code",
   "execution_count": 6,
   "metadata": {},
   "outputs": [
    {
     "name": "stdout",
     "output_type": "stream",
     "text": [
      "/Users/timothyfisher/data/go-basic.obo: fmt(1.2) rel(2019-04-17) 47,398 GO Terms\n"
     ]
    }
   ],
   "source": [
    "##  Retrieving GO annotations and import packages ###\n",
    "import Bio.UniProt.GOA as GOA\n",
    "from goatools import obo_parser # Import the OBO parser from GOATools\n",
    "import wget\n",
    "import os\n",
    "from ftplib import FTP\n",
    "\n",
    "# Downloading the obo file\n",
    "\n",
    "go_obo_url = 'http://purl.obolibrary.org/obo/go/go-basic.obo'\n",
    "data_folder = os.getcwd() + '/data' # Creating a new directory named data to store obo file.\n",
    "\n",
    "\n",
    "# Check if the file exists already\n",
    "if(not os.path.isfile(data_folder+'/go-basic.obo')):\n",
    "    go_obo = wget.download(go_obo_url, data_folder+'/go-basic.obo')\n",
    "else:\n",
    "    go_obo = data_folder+'/go-basic.obo' # Store the go obo file in the variable go_obo\n",
    "    \n",
    "# To create dictionary of GO terms.\n",
    "go = obo_parser.GODag(go_obo)"
   ]
  },
  {
   "cell_type": "code",
   "execution_count": 7,
   "metadata": {},
   "outputs": [],
   "source": [
    "# Download the reduced GAF file containing gene association of only humans. #\n",
    "\n",
    "'''\n",
    "Human UniProt-GOA GAF file\n",
    "ftp://ftp.ebi.ac.uk/pub/databases/GO/goa/HUMAN/goa_human.gaf.gz\n",
    "'''\n",
    "\n",
    "human_url = '/pub/databases/GO/goa/HUMAN/goa_human.gaf.gz'\n",
    "human_fn = human_url.split('/')[-1]\n",
    "\n",
    "# Check if the file exists already\n",
    "human_gaf = os.path.join(data_folder, human_fn)\n",
    "if(not os.path.isfile(human_gaf)):\n",
    "    # Login to FTP server\n",
    "    ebi_ftp = FTP('ftp.ebi.ac.uk')\n",
    "    ebi_ftp.login() # To loing in as random person... Ghose\n",
    "    \n",
    "    # Download\n",
    "    with open(human_gaf,'wb') as human_fp:\n",
    "        ebi_ftp.retrbinary('RETR {}'.format(human_url), human_fp.write)\n",
    "        \n",
    "    # Logout from FTP server\n",
    "    ebi_ftp.quit()\n"
   ]
  },
  {
   "cell_type": "code",
   "execution_count": 8,
   "metadata": {},
   "outputs": [],
   "source": [
    "import gzip\n",
    "# File is a gunzip file, so we need to open it in this way\n",
    "with gzip.open(human_gaf, 'rt') as human_gaf_fp:\n",
    "    human_funcs = {}  # Initialize the dictionary of functions\n",
    "    \n",
    "    # Iterate on each function using Bio.UniProt.GOA library.\n",
    "    for entry in GOA.gafiterator(human_gaf_fp):\n",
    "        uniprot_id = entry.pop('DB_Object_ID')\n",
    "        human_funcs[uniprot_id] = entry"
   ]
  },
  {
   "cell_type": "code",
   "execution_count": 9,
   "metadata": {},
   "outputs": [
    {
     "name": "stdout",
     "output_type": "stream",
     "text": [
      "fisher module not installed.  Falling back on scipy.stats.fisher_exact\n"
     ]
    },
    {
     "name": "stderr",
     "output_type": "stream",
     "text": [
      "Propagating term counts to parents ..\n"
     ]
    },
    {
     "name": "stdout",
     "output_type": "stream",
     "text": [
      "1 GO IDs in assc. are not found in the GO-DAG: GO:0008565\n",
      "100% 19,770 of 19,770 population items found in association\n",
      "100%      6 of      6 study items found in association\n",
      "100%      6 of      6 study items found in population(19770)\n",
      "Calculating 9,143 uncorrected p-values using fisher_scipy_stats\n",
      "   9,143 GO terms are associated with 19,766 of 19,770 population items\n",
      "      46 GO terms are associated with      6 of      6 study items\n",
      "       6 GO terms found significant (< 0.05=alpha) after multitest correction: local bonferroni\n",
      "       6 GO terms found significant (< 0.05=alpha) after multitest correction: local sidak\n",
      "       6 GO terms found significant (< 0.05=alpha) after multitest correction: local holm\n"
     ]
    },
    {
     "name": "stderr",
     "output_type": "stream",
     "text": [
      "Generate p-value distribution for FDR based on resampling (this might take a while)\n",
      "Sample 0 / 500: p-value 0.00030349013657378235\n"
     ]
    },
    {
     "name": "stdout",
     "output_type": "stream",
     "text": [
      "fisher module not installed.  Falling back on scipy.stats.fisher_exact\n"
     ]
    },
    {
     "name": "stderr",
     "output_type": "stream",
     "text": [
      "Sample 10 / 500: p-value 0.00030349013657378235\n",
      "Sample 20 / 500: p-value 0.00030349013657378235\n",
      "Sample 30 / 500: p-value 0.00030349013657378235\n",
      "Sample 40 / 500: p-value 0.00030349013657378235\n",
      "Sample 50 / 500: p-value 0.00030349013657378235\n",
      "Sample 60 / 500: p-value 0.0013265401740797564\n",
      "Sample 70 / 500: p-value 0.000606903514014989\n",
      "Sample 80 / 500: p-value 0.0033341723136107453\n",
      "Sample 90 / 500: p-value 0.0009102401479174321\n",
      "Sample 100 / 500: p-value 0.00030349013657378235\n",
      "Sample 110 / 500: p-value 0.00030349013657378235\n",
      "Sample 120 / 500: p-value 0.000277390413074762\n",
      "Sample 130 / 500: p-value 0.00030349013657378235\n",
      "Sample 140 / 500: p-value 0.000606903514014989\n",
      "Sample 150 / 500: p-value 0.000606903514014989\n",
      "Sample 160 / 500: p-value 0.00030349013657378235\n",
      "Sample 170 / 500: p-value 0.00030349013657378235\n",
      "Sample 180 / 500: p-value 0.00030349013657378235\n",
      "Sample 190 / 500: p-value 0.00045350729635886065\n",
      "Sample 200 / 500: p-value 0.00030349013657378235\n",
      "Sample 210 / 500: p-value 0.00030349013657378235\n",
      "Sample 220 / 500: p-value 0.00030349013657378235\n",
      "Sample 230 / 500: p-value 0.000606903514014989\n",
      "Sample 240 / 500: p-value 0.00030349013657378235\n",
      "Sample 250 / 500: p-value 0.00030349013657378235\n",
      "Sample 260 / 500: p-value 0.00030349013657378235\n",
      "Sample 270 / 500: p-value 0.0001943508702121485\n",
      "Sample 280 / 500: p-value 0.00030349013657378235\n",
      "Sample 290 / 500: p-value 0.00030349013657378235\n",
      "Sample 300 / 500: p-value 0.000606903514014989\n",
      "Sample 310 / 500: p-value 0.00030349013657378235\n",
      "Sample 320 / 500: p-value 0.00030349013657378235\n",
      "Sample 330 / 500: p-value 0.000606903514014989\n",
      "Sample 340 / 500: p-value 0.00030349013657378235\n",
      "Sample 350 / 500: p-value 0.00030349013657378235\n",
      "Sample 360 / 500: p-value 0.0002914398620603873\n",
      "Sample 370 / 500: p-value 0.0009102401479174321\n",
      "Sample 380 / 500: p-value 0.00030349013657378235\n",
      "Sample 390 / 500: p-value 0.00030349013657378235\n",
      "Sample 400 / 500: p-value 0.00030349013657378235\n",
      "Sample 410 / 500: p-value 0.00030349013657378235\n",
      "Sample 420 / 500: p-value 0.0021228195583226006\n",
      "Sample 430 / 500: p-value 0.00030349013657378235\n",
      "Sample 440 / 500: p-value 0.001213500053794105\n",
      "Sample 450 / 500: p-value 0.00030349013657378235\n",
      "Sample 460 / 500: p-value 0.00030349013657378235\n",
      "Sample 470 / 500: p-value 0.00030349013657378235\n",
      "Sample 480 / 500: p-value 0.00030349013657378235\n",
      "Sample 490 / 500: p-value 0.00030349013657378235\n"
     ]
    },
    {
     "name": "stdout",
     "output_type": "stream",
     "text": [
      "      17 GO terms found significant (< 0.05=alpha) after multitest correction: local fdr\n"
     ]
    }
   ],
   "source": [
    "### GO enrichment analysis ###\n",
    "from goatools.go_enrichment import GOEnrichmentStudy\n",
    "\n",
    "# The reference population from the observed Human GOA file. \n",
    "pop = human_funcs.keys()\n",
    "\n",
    "# The Swiss-Prot gene IDs from mygene_code.py results\n",
    "study = ['P03905','P00846','P03891','P00395','P00403','P00156']#cluster5_c0c1\n",
    "\n",
    "# To create a dictionary of genes with their \n",
    "# UniProt ID as a key and their set of GO annotations as the values.\n",
    "assoc = {}\n",
    "for x in human_funcs:\n",
    "    if x not in assoc:\n",
    "        assoc[x] = set()\n",
    "    assoc[x].add(str(human_funcs[x]['GO_ID']))\n",
    "\n",
    "## The GO terms that are most significantly enriched. \n",
    "# Methods for GOEnrichmentStudy\n",
    "methods = [\"bonferroni\", \"sidak\", \"holm\", \"fdr\"]\n",
    "\n",
    "\n",
    "\n",
    "\n",
    "# Running GOEnrichmentStudy\n",
    "g = GOEnrichmentStudy(pop, assoc, go,\n",
    "                         propagate_counts=True,\n",
    "                         alpha=0.05,\n",
    "                         methods=methods)\n",
    "g_res = g.run_study(study)\n",
    "    "
   ]
  },
  {
   "cell_type": "code",
   "execution_count": 10,
   "metadata": {},
   "outputs": [
    {
     "name": "stdout",
     "output_type": "stream",
     "text": [
      "GO\tNS\tenrichment\tname\tratio_in_study\tratio_in_pop\tp_uncorrected\tdepth\tstudy_count\tp_bonferroni\tp_sidak\tp_holm\tp_fdr\tstudy_items\n",
      "GO:0055093\tBP\te\tresponse to hyperoxia         \t1/6\t1/19770\t0.000303\t5\t1\t1\t1\t1\t0.046\t         P00156\n",
      "GO:0036296\tBP\te\tresponse to increased oxygen levels\t1/6\t1/19770\t0.000303\t4\t1\t1\t1\t1\t0.046\t         P00156\n",
      "GO:0072593\tBP\te\treactive oxygen species metabolic process\t1/6\t5/19770\t0.00152\t3\t1\t1\t1\t1\t0.862\t         P03891\n",
      "GO:0070482\tBP\te\tresponse to oxygen levels     \t1/6\t10/19770\t0.00303\t3\t1\t1\t1\t1\t0.962\t         P00156\n",
      "GO:0009628\tBP\te\tresponse to abiotic stimulus  \t1/6\t74/19770\t0.0223\t2\t1\t1\t1\t1\t0.998\t         P00156\n",
      "GO:0015078\tMF\te\tproton transmembrane transporter activity\t3/6\t25/19770\t3.56e-08\t7\t3\t0.000326\t0.000318\t0.000326\t0\tP00395, P00403, P00846\n",
      "GO:0015077\tMF\te\tmonovalent inorganic cation transmembrane transporter activity\t3/6\t49/19770\t2.85e-07\t6\t3\t0.0026\t0.00254\t0.0026\t0\tP00395, P00403, P00846\n",
      "GO:0022890\tMF\te\tinorganic cation transmembrane transporter activity\t3/6\t72/19770\t9.19e-07\t5\t3\t0.0084\t0.00819\t0.0084\t0\tP00395, P00403, P00846\n",
      "GO:0008324\tMF\te\tcation transmembrane transporter activity\t3/6\t76/19770\t1.08e-06\t4\t3\t0.0099\t0.00965\t0.0099\t0\tP00395, P00403, P00846\n",
      "GO:0016491\tMF\te\toxidoreductase activity       \t3/6\t108/19770\t3.13e-06\t2\t3\t0.0286\t0.0279\t0.0286\t0\tP00395, P00403, P03905\n",
      "GO:0015318\tMF\te\tinorganic molecular entity transmembrane transporter activity\t3/6\t127/19770\t5.11e-06\t3\t3\t0.0467\t0.0455\t0.0467\t0\tP00395, P00403, P00846\n",
      "GO:0015075\tMF\te\tion transmembrane transporter activity\t3/6\t134/19770\t6e-06\t3\t3\t0.0549\t0.0535\t0.0548\t0\tP00395, P00403, P00846\n",
      "GO:0015002\tMF\te\theme-copper terminal oxidase activity\t2/6\t14/19770\t6.97e-06\t3\t2\t0.0638\t0.0622\t0.0637\t0\t P00395, P00403\n",
      "GO:0016676\tMF\te\toxidoreductase activity, acting on a heme group of donors, oxygen as acceptor\t2/6\t14/19770\t6.97e-06\t4\t2\t0.0638\t0.0622\t0.0637\t0\t P00395, P00403\n",
      "GO:0016675\tMF\te\toxidoreductase activity, acting on a heme group of donors\t2/6\t14/19770\t6.97e-06\t3\t2\t0.0638\t0.0622\t0.0637\t0\t P00395, P00403\n",
      "GO:0004129\tMF\te\tcytochrome-c oxidase activity \t2/6\t14/19770\t6.97e-06\t8\t2\t0.0638\t0.0622\t0.0637\t0\t P00395, P00403\n",
      "GO:0022857\tMF\te\ttransmembrane transporter activity\t3/6\t160/19770\t1.02e-05\t2\t3\t0.0934\t0.0911\t0.0933\t0\tP00395, P00403, P00846\n",
      "GO:0005215\tMF\te\ttransporter activity          \t3/6\t178/19770\t1.41e-05\t1\t3\t0.129\t0.125\t0.128\t0.002\tP00395, P00403, P00846\n",
      "GO:0009055\tMF\te\telectron transfer activity    \t2/6\t21/19770\t1.61e-05\t3\t2\t0.147\t0.143\t0.147\t0.002\t P00395, P00403\n",
      "GO:0003824\tMF\te\tcatalytic activity            \t4/6\t1158/19770\t0.00016\t1\t4\t1\t1\t1\t0.024\tP00395, P00403, P00846, P03905\n",
      "GO:0003954\tMF\te\tNADH dehydrogenase activity   \t1/6\t9/19770\t0.00273\t4\t1\t1\t1\t1\t0.952\t         P03905\n",
      "GO:0046933\tMF\te\tproton-transporting ATP synthase activity, rotational mechanism\t1/6\t10/19770\t0.00303\t13\t1\t1\t1\t1\t0.962\t         P00846\n",
      "GO:0044769\tMF\te\tATPase activity, coupled to transmembrane movement of ions, rotational mechanism\t1/6\t11/19770\t0.00333\t12\t1\t1\t1\t1\t0.964\t         P00846\n",
      "GO:0016651\tMF\te\toxidoreductase activity, acting on NAD(P)H\t1/6\t12/19770\t0.00364\t3\t1\t1\t1\t1\t0.968\t         P03905\n",
      "GO:0019829\tMF\te\tcation-transporting ATPase activity\t1/6\t16/19770\t0.00485\t12\t1\t1\t1\t1\t0.982\t         P00846\n",
      "GO:0042625\tMF\te\tATPase coupled ion transmembrane transporter activity\t1/6\t16/19770\t0.00485\t11\t1\t1\t1\t1\t0.982\t         P00846\n",
      "GO:0042626\tMF\te\tATPase activity, coupled to transmembrane movement of substances\t1/6\t16/19770\t0.00485\t10\t1\t1\t1\t1\t0.982\t         P00846\n",
      "GO:0022853\tMF\te\tactive ion transmembrane transporter activity\t1/6\t16/19770\t0.00485\t4\t1\t1\t1\t1\t0.982\t         P00846\n",
      "GO:0015405\tMF\te\tP-P-bond-hydrolysis-driven transmembrane transporter activity\t1/6\t17/19770\t0.00515\t5\t1\t1\t1\t1\t0.988\t         P00846\n",
      "GO:0015399\tMF\te\tprimary active transmembrane transporter activity\t1/6\t17/19770\t0.00515\t4\t1\t1\t1\t1\t0.988\t         P00846\n",
      "GO:0043492\tMF\te\tATPase activity, coupled to movement of substances\t1/6\t19/19770\t0.00575\t9\t1\t1\t1\t1\t0.988\t         P00846\n",
      "GO:0022804\tMF\te\tactive transmembrane transporter activity\t1/6\t24/19770\t0.00726\t3\t1\t1\t1\t1\t0.994\t         P00846\n",
      "GO:0042623\tMF\te\tATPase activity, coupled      \t1/6\t61/19770\t0.0184\t8\t1\t1\t1\t1\t0.998\t         P00846\n",
      "GO:0003674\tMF\te\tmolecular_function            \t4/6\t4209/19770\t0.0212\t0\t4\t1\t1\t1\t0.998\tP00395, P00403, P00846, P03905\n",
      "GO:0016887\tMF\te\tATPase activity               \t1/6\t85/19770\t0.0255\t7\t1\t1\t1\t1\t1\t         P00846\n",
      "GO:0017111\tMF\te\tnucleoside-triphosphatase activity\t1/6\t92/19770\t0.0276\t6\t1\t1\t1\t1\t1\t         P00846\n",
      "GO:0016462\tMF\te\tpyrophosphatase activity      \t1/6\t107/19770\t0.032\t5\t1\t1\t1\t1\t1\t         P00846\n",
      "GO:0016818\tMF\te\thydrolase activity, acting on acid anhydrides, in phosphorus-containing anhydrides\t1/6\t110/19770\t0.0329\t4\t1\t1\t1\t1\t1\t         P00846\n",
      "GO:0016817\tMF\te\thydrolase activity, acting on acid anhydrides\t1/6\t110/19770\t0.0329\t3\t1\t1\t1\t1\t1\t         P00846\n"
     ]
    }
   ],
   "source": [
    "g.print_results(g_res, min_ratio=None, pval=0.05)"
   ]
  },
  {
   "cell_type": "code",
   "execution_count": null,
   "metadata": {},
   "outputs": [],
   "source": []
  }
 ],
 "metadata": {
  "kernelspec": {
   "display_name": "Python 3",
   "language": "python",
   "name": "python3"
  },
  "language_info": {
   "codemirror_mode": {
    "name": "ipython",
    "version": 3
   },
   "file_extension": ".py",
   "mimetype": "text/x-python",
   "name": "python",
   "nbconvert_exporter": "python",
   "pygments_lexer": "ipython3",
   "version": "3.5.5"
  }
 },
 "nbformat": 4,
 "nbformat_minor": 2
}
